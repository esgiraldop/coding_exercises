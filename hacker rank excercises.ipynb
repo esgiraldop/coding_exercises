{
 "cells": [
  {
   "cell_type": "markdown",
   "metadata": {},
   "source": [
    "# EASY"
   ]
  },
  {
   "cell_type": "markdown",
   "metadata": {},
   "source": [
    "## Sock merchant\n",
    "\n",
    "Solution proposed by me"
   ]
  },
  {
   "cell_type": "code",
   "execution_count": null,
   "metadata": {},
   "outputs": [],
   "source": [
    "%%timeit -n 1000\n",
    "\n",
    "def sockMerchant(n, ar):\n",
    "    \n",
    "    sock_colors = set(ar)\n",
    "        \n",
    "    socks_by_color = dict()\n",
    "    for color in sock_colors:\n",
    "        i = 0\n",
    "        for item in ar:\n",
    "            if item != color: continue\n",
    "            i+=1\n",
    "        socks_by_color[color] = i\n",
    "    \n",
    "    total_pairs = 0\n",
    "    for color, number in socks_by_color.items():\n",
    "        if number <2: continue\n",
    "        pairs_per_color = int(number/2)\n",
    "        total_pairs += pairs_per_color\n",
    "    \n",
    "    return total_pairs\n",
    "\n",
    "sockMerchant(9,list(np.random.randint(1,10,1000)))"
   ]
  },
  {
   "cell_type": "markdown",
   "metadata": {},
   "source": [
    "Solution proposed by Santi Echavarria"
   ]
  },
  {
   "cell_type": "code",
   "execution_count": null,
   "metadata": {},
   "outputs": [],
   "source": [
    "%%timeit -n 1000\n",
    "\n",
    "def sockMerchant(n, ar):\n",
    "    \n",
    "    pair = 0\n",
    "    while len(ar) > 0:\n",
    "        color = ar[0]\n",
    "        ar.remove(color)\n",
    "        for color2 in ar:\n",
    "            if color == color2:\n",
    "                ar.remove(color2)\n",
    "                pair += 1\n",
    "                break\n",
    "                \n",
    "    return pair\n",
    "    \n",
    "sockMerchant(9,list(np.random.randint(1,10,1000)))"
   ]
  },
  {
   "cell_type": "markdown",
   "metadata": {},
   "source": [
    "## Counting Valleys"
   ]
  },
  {
   "cell_type": "code",
   "execution_count": 3,
   "metadata": {},
   "outputs": [
    {
     "data": {
      "text/plain": [
       "2"
      ]
     },
     "execution_count": 3,
     "metadata": {},
     "output_type": "execute_result"
    }
   ],
   "source": [
    "# counting valleys\n",
    "\n",
    "def countingValleys(steps, path):\n",
    "\n",
    "    steps = [1 if i=='U' else -1 for i in (j for j in path)]\n",
    "    count = 0\n",
    "    valleys = 0\n",
    "    SL_intersect = 0\n",
    "\n",
    "    for step in steps:\n",
    "        count += step\n",
    "        \n",
    "        if count>0: continue # were over the sea level\n",
    "        if count <= 0: #checking if at or under the sea level\n",
    "            if count == 0:\n",
    "                SL_intersect += 1\n",
    "                if SL_intersect == 2:\n",
    "                    valleys += 1 # counting a valley\n",
    "                    SL_intersect = 0\n",
    "            \n",
    "#     print('number of valleys are:', valleys)\n",
    "    \n",
    "    return valleys\n",
    "\n",
    "countingValleys(len('UDDDUUUUDDDUU'), 'UDDDUUUUDDDUU')"
   ]
  },
  {
   "cell_type": "code",
   "execution_count": null,
   "metadata": {},
   "outputs": [],
   "source": [
    "_/\\      _\n",
    "   \\    /\n",
    "    \\/\\/"
   ]
  },
  {
   "cell_type": "markdown",
   "metadata": {},
   "source": [
    "## Cats and a mouse"
   ]
  },
  {
   "cell_type": "code",
   "execution_count": 12,
   "metadata": {},
   "outputs": [
    {
     "name": "stdout",
     "output_type": "stream",
     "text": [
      "Mouse C\n"
     ]
    }
   ],
   "source": [
    "import math\n",
    "import os\n",
    "import random\n",
    "import re\n",
    "import sys\n",
    "\n",
    "# Complete the catAndMouse function below.\n",
    "def catAndMouse(x, y, z):\n",
    "\n",
    "    '''x: pos cat A\n",
    "        y: pos cat B\n",
    "        z: pos mouse'''\n",
    "    \n",
    "    cat_A_to_mouse = abs(x-z)\n",
    "    cat_B_to_mouse = abs(y-z)\n",
    "    \n",
    "    if cat_A_to_mouse == cat_B_to_mouse:\n",
    "        return 'Mouse C'\n",
    "    elif cat_A_to_mouse < cat_B_to_mouse:\n",
    "        return 'Cat A'\n",
    "    elif cat_A_to_mouse > cat_B_to_mouse:\n",
    "        return 'Cat B'\n",
    "    \n",
    "catAndMouse(1,3,2)"
   ]
  },
  {
   "cell_type": "markdown",
   "metadata": {},
   "source": [
    "## Jumping on the clouds"
   ]
  },
  {
   "cell_type": "code",
   "execution_count": 162,
   "metadata": {},
   "outputs": [
    {
     "data": {
      "text/plain": [
       "4"
      ]
     },
     "execution_count": 162,
     "metadata": {},
     "output_type": "execute_result"
    }
   ],
   "source": [
    "def jumpingOnClouds(c):\n",
    "\n",
    "    jumps = 0\n",
    "    jump_twice=False\n",
    "\n",
    "    for i in range(len(c)):\n",
    "\n",
    "        if jump_twice == True:\n",
    "            jump_twice = False\n",
    "            continue\n",
    "#         print('jumps',jumps)\n",
    "        if i < len(c)-2:\n",
    "#             print('i < len(c)-2', i < len(c)-2)\n",
    "            if c[i+2] == 0 and c[i+1] == 0:\n",
    "#                 print('jumps twice')\n",
    "                jumps += 1\n",
    "                jump_twice = True\n",
    "                continue\n",
    "            elif c[i+1] == 0:\n",
    "#                 print('jumps one')\n",
    "                jumps += 1\n",
    "                continue\n",
    "            elif c[i+1] == 1:\n",
    "#                 print('avoids one, jumps one')\n",
    "                jumps += 1\n",
    "                jump_twice = True\n",
    "                continue\n",
    "        elif i < len(c)-1:\n",
    "#             print('i < len(c)-1', i < len(c)-1)\n",
    "            if c[i+1] == 0:\n",
    "#                 print('jumps one')\n",
    "                jumps += 1\n",
    "                continue\n",
    "            elif c[i+1] == 1:\n",
    "#                 print('avoids one, jumps one')\n",
    "                jumps += 1\n",
    "                jump_twice = True\n",
    "                continue\n",
    "        else:\n",
    "            return jumps\n",
    "\n",
    "jumpingOnClouds([0,0,1,0,0,1,0])   280354"
   ]
  },
  {
   "cell_type": "markdown",
   "metadata": {},
   "source": [
    "## Repeated string"
   ]
  },
  {
   "cell_type": "code",
   "execution_count": 42,
   "metadata": {},
   "outputs": [
    {
     "data": {
      "text/plain": [
       "1000000000000"
      ]
     },
     "execution_count": 42,
     "metadata": {},
     "output_type": "execute_result"
    }
   ],
   "source": [
    "def repeatedString(s, n):\n",
    "\n",
    "    return s.count('a') * (n//len(s)) + s[:n-len(s)*(n//len(s))].count('a')\n",
    "\n",
    "repeatedString('a', 1000000000000)"
   ]
  }
 ],
 "metadata": {
  "kernelspec": {
   "display_name": "Python 3",
   "language": "python",
   "name": "python3"
  },
  "language_info": {
   "codemirror_mode": {
    "name": "ipython",
    "version": 3
   },
   "file_extension": ".py",
   "mimetype": "text/x-python",
   "name": "python",
   "nbconvert_exporter": "python",
   "pygments_lexer": "ipython3",
   "version": "3.7.6"
  }
 },
 "nbformat": 4,
 "nbformat_minor": 2
}
